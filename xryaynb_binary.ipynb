{
 "cells": [
  {
   "cell_type": "code",
   "execution_count": 16,
   "metadata": {},
   "outputs": [
    {
     "name": "stdout",
     "output_type": "stream",
     "text": [
      "4696 578 582\n",
      "1282 3414\n",
      "155 427\n",
      "146 432\n"
     ]
    }
   ],
   "source": [
    "from cgi import test\n",
    "import os\n",
    "import glob\n",
    "import numpy as np\n",
    "\n",
    "base_dir = 'chest_xray/'\n",
    "\n",
    "train_dir = os.path.join(base_dir, 'train')\n",
    "validation_dir = os.path.join(base_dir, 'val')\n",
    "test_dir = os.path.join(base_dir, 'test')\n",
    "\n",
    "train_NORMAL_dir = os.path.join(train_dir, 'NORMAL')\n",
    "train_PNEUMONIA_dir = os.path.join(train_dir, 'PNEUMONIA')\n",
    "\n",
    "validation_NORMAL_dir = os.path.join(validation_dir, 'NORMAL')\n",
    "validation_PNEUMONIA_dir = os.path.join(validation_dir, 'PNEUMONIA')\n",
    "\n",
    "test_NORMAL_dir = os.path.join(test_dir, 'NORMAL')\n",
    "test_PNEUMONIA_dir = os.path.join(test_dir, 'PNEUMONIA')\n",
    "\n",
    "train_NORMAL_fnames = os.listdir(train_NORMAL_dir)\n",
    "train_PNEUMONIA_fnames = os.listdir(train_PNEUMONIA_dir)\n",
    "\n",
    "validation_NORMAL_fnames = os.listdir(validation_NORMAL_dir)\n",
    "validation_PNEUMONIA_fnames = os.listdir(validation_PNEUMONIA_dir)\n",
    "\n",
    "test_NORMAL_fnames = os.listdir(test_NORMAL_dir)\n",
    "test_PNEUMONIA_fnames = os.listdir(test_PNEUMONIA_dir)\n",
    "\n",
    "n_train = len(train_NORMAL_fnames) + len(train_PNEUMONIA_fnames)\n",
    "n_validation = len(validation_NORMAL_fnames) + len(validation_PNEUMONIA_fnames)\n",
    "n_test = len(test_NORMAL_fnames) + len(test_PNEUMONIA_fnames)\n",
    "\n",
    "print(n_train, n_validation, n_test)\n",
    "print(len(train_NORMAL_fnames),len(train_PNEUMONIA_fnames))\n",
    "print(len(test_NORMAL_fnames),len(test_PNEUMONIA_fnames))\n",
    "print(len(validation_NORMAL_fnames),len(validation_PNEUMONIA_fnames))"
   ]
  },
  {
   "cell_type": "code",
   "execution_count": 17,
   "metadata": {},
   "outputs": [
    {
     "name": "stdout",
     "output_type": "stream",
     "text": [
      "Found 4696 images belonging to 2 classes.\n",
      "Found 578 images belonging to 2 classes.\n",
      "Found 582 images belonging to 2 classes.\n"
     ]
    }
   ],
   "source": [
    "from tensorflow.keras.preprocessing.image import ImageDataGenerator\n",
    "\n",
    "train_datagen = ImageDataGenerator(rescale = 1.0/255,\n",
    "                                   samplewise_center=True,\n",
    "                                   samplewise_std_normalization=True,\n",
    "                                   zoom_range = 0.2, \n",
    "                                   width_shift_range=0.1,  \n",
    "                                   height_shift_range=0.1)\n",
    "\n",
    "validation_datagen  = ImageDataGenerator(rescale = 1.0/255,\n",
    "                                         samplewise_center=True,\n",
    "                                         samplewise_std_normalization=True,\n",
    "                                         zoom_range = 0.2, \n",
    "                                         width_shift_range=0.1,  \n",
    "                                         height_shift_range=0.1)\n",
    "\n",
    "test_datagen  = ImageDataGenerator(rescale = 1.0/255,\n",
    "                                    samplewise_center=True,\n",
    "                                    samplewise_std_normalization=True)\n",
    "\n",
    "train_generator = train_datagen.flow_from_directory(train_dir,\n",
    "                                                    batch_size=16,\n",
    "                                                    class_mode='binary',\n",
    "                                                    target_size=(160, 160))\n",
    "\n",
    "validation_generator = validation_datagen.flow_from_directory(validation_dir,\n",
    "                                                              batch_size=16,\n",
    "                                                              class_mode='binary',\n",
    "                                                              target_size=(160, 160))\n",
    "\n",
    "test_generator = test_datagen.flow_from_directory(test_dir,\n",
    "                                                  class_mode='binary',\n",
    "                                                  target_size=(160, 160))"
   ]
  },
  {
   "cell_type": "code",
   "execution_count": 18,
   "metadata": {},
   "outputs": [
    {
     "name": "stdout",
     "output_type": "stream",
     "text": [
      "Epoch 1/20\n",
      "293/293 [==============================] - 189s 637ms/step - loss: 0.3280 - accuracy: 0.8703 - precision: 0.8999 - recall: 0.9245 - val_loss: 0.6960 - val_accuracy: 0.7561 - val_precision: 0.7548 - val_recall: 0.9977\n",
      "Epoch 2/20\n",
      "293/293 [==============================] - 289s 982ms/step - loss: 0.2230 - accuracy: 0.9088 - precision: 0.9340 - recall: 0.9409 - val_loss: 0.2602 - val_accuracy: 0.8737 - val_precision: 0.8656 - val_recall: 0.9838\n",
      "Epoch 3/20\n",
      "293/293 [==============================] - 303s 1s/step - loss: 0.1880 - accuracy: 0.9280 - precision: 0.9472 - recall: 0.9542 - val_loss: 0.1477 - val_accuracy: 0.9446 - val_precision: 0.9545 - val_recall: 0.9722\n",
      "Epoch 4/20\n",
      "293/293 [==============================] - 251s 857ms/step - loss: 0.1857 - accuracy: 0.9274 - precision: 0.9471 - recall: 0.9532 - val_loss: 0.1749 - val_accuracy: 0.9256 - val_precision: 0.9183 - val_recall: 0.9884\n",
      "Epoch 5/20\n",
      "293/293 [==============================] - 250s 850ms/step - loss: 0.1720 - accuracy: 0.9329 - precision: 0.9510 - recall: 0.9571 - val_loss: 0.1307 - val_accuracy: 0.9602 - val_precision: 0.9701 - val_recall: 0.9769\n",
      "Epoch 6/20\n",
      "293/293 [==============================] - 291s 991ms/step - loss: 0.1620 - accuracy: 0.9393 - precision: 0.9566 - recall: 0.9600 - val_loss: 0.1655 - val_accuracy: 0.9360 - val_precision: 0.9303 - val_recall: 0.9884\n",
      "Epoch 7/20\n",
      "293/293 [==============================] - 252s 857ms/step - loss: 0.1552 - accuracy: 0.9391 - precision: 0.9564 - recall: 0.9600 - val_loss: 0.1145 - val_accuracy: 0.9654 - val_precision: 0.9682 - val_recall: 0.9861\n",
      "Epoch 8/20\n",
      "293/293 [==============================] - 188s 642ms/step - loss: 0.1464 - accuracy: 0.9474 - precision: 0.9630 - recall: 0.9647 - val_loss: 0.1251 - val_accuracy: 0.9585 - val_precision: 0.9636 - val_recall: 0.9815\n",
      "Epoch 9/20\n",
      "293/293 [==============================] - 304s 1s/step - loss: 0.1437 - accuracy: 0.9447 - precision: 0.9610 - recall: 0.9630 - val_loss: 0.0966 - val_accuracy: 0.9689 - val_precision: 0.9748 - val_recall: 0.9838\n",
      "Epoch 10/20\n",
      "293/293 [==============================] - 185s 631ms/step - loss: 0.1379 - accuracy: 0.9455 - precision: 0.9605 - recall: 0.9647 - val_loss: 0.1395 - val_accuracy: 0.9394 - val_precision: 0.9382 - val_recall: 0.9838\n",
      "Epoch 11/20\n",
      "293/293 [==============================] - 212s 723ms/step - loss: 0.1404 - accuracy: 0.9476 - precision: 0.9625 - recall: 0.9656 - val_loss: 0.1458 - val_accuracy: 0.9533 - val_precision: 0.9903 - val_recall: 0.9468\n",
      "Epoch 12/20\n",
      "293/293 [==============================] - 210s 715ms/step - loss: 0.1363 - accuracy: 0.9474 - precision: 0.9625 - recall: 0.9653 - val_loss: 0.1192 - val_accuracy: 0.9550 - val_precision: 0.9552 - val_recall: 0.9861\n",
      "Epoch 13/20\n",
      "293/293 [==============================] - 323s 1s/step - loss: 0.1246 - accuracy: 0.9532 - precision: 0.9660 - recall: 0.9697 - val_loss: 0.0994 - val_accuracy: 0.9689 - val_precision: 0.9882 - val_recall: 0.9699\n",
      "Epoch 14/20\n",
      "293/293 [==============================] - 272s 926ms/step - loss: 0.1332 - accuracy: 0.9489 - precision: 0.9631 - recall: 0.9668 - val_loss: 0.1328 - val_accuracy: 0.9464 - val_precision: 0.9674 - val_recall: 0.9606\n",
      "Epoch 15/20\n",
      "293/293 [==============================] - 209s 712ms/step - loss: 0.1246 - accuracy: 0.9509 - precision: 0.9646 - recall: 0.9680 - val_loss: 0.1134 - val_accuracy: 0.9619 - val_precision: 0.9904 - val_recall: 0.9583\n",
      "Epoch 16/20\n",
      "293/293 [==============================] - 186s 635ms/step - loss: 0.1238 - accuracy: 0.9538 - precision: 0.9663 - recall: 0.9703 - val_loss: 0.1114 - val_accuracy: 0.9619 - val_precision: 0.9767 - val_recall: 0.9722\n",
      "Epoch 17/20\n",
      "293/293 [==============================] - 218s 744ms/step - loss: 0.1276 - accuracy: 0.9500 - precision: 0.9629 - recall: 0.9686 - val_loss: 0.0942 - val_accuracy: 0.9758 - val_precision: 0.9883 - val_recall: 0.9792\n",
      "Epoch 18/20\n",
      "293/293 [==============================] - 442s 2s/step - loss: 0.1239 - accuracy: 0.9515 - precision: 0.9638 - recall: 0.9697 - val_loss: 0.1125 - val_accuracy: 0.9602 - val_precision: 0.9789 - val_recall: 0.9676\n",
      "Epoch 19/20\n",
      "293/293 [==============================] - 122s 417ms/step - loss: 0.1194 - accuracy: 0.9547 - precision: 0.9664 - recall: 0.9715 - val_loss: 0.0959 - val_accuracy: 0.9706 - val_precision: 0.9837 - val_recall: 0.9769\n",
      "Epoch 20/20\n",
      "293/293 [==============================] - 126s 429ms/step - loss: 0.1205 - accuracy: 0.9566 - precision: 0.9697 - recall: 0.9706 - val_loss: 0.1171 - val_accuracy: 0.9619 - val_precision: 0.9790 - val_recall: 0.9699\n",
      "Model: \"X-ray_CNN\"\n",
      "_________________________________________________________________\n",
      " Layer (type)                Output Shape              Param #   \n",
      "=================================================================\n",
      " conv2d_8 (Conv2D)           (None, 158, 158, 32)      896       \n",
      "                                                                 \n",
      " batch_normalization_8 (Batc  (None, 158, 158, 32)     128       \n",
      " hNormalization)                                                 \n",
      "                                                                 \n",
      " activation_8 (Activation)   (None, 158, 158, 32)      0         \n",
      "                                                                 \n",
      " max_pooling2d_8 (MaxPooling  (None, 79, 79, 32)       0         \n",
      " 2D)                                                             \n",
      "                                                                 \n",
      " conv2d_9 (Conv2D)           (None, 77, 77, 64)        18496     \n",
      "                                                                 \n",
      " batch_normalization_9 (Batc  (None, 77, 77, 64)       256       \n",
      " hNormalization)                                                 \n",
      "                                                                 \n",
      " activation_9 (Activation)   (None, 77, 77, 64)        0         \n",
      "                                                                 \n",
      " max_pooling2d_9 (MaxPooling  (None, 38, 38, 64)       0         \n",
      " 2D)                                                             \n",
      "                                                                 \n",
      " conv2d_10 (Conv2D)          (None, 36, 36, 128)       73856     \n",
      "                                                                 \n",
      " batch_normalization_10 (Bat  (None, 36, 36, 128)      512       \n",
      " chNormalization)                                                \n",
      "                                                                 \n",
      " activation_10 (Activation)  (None, 36, 36, 128)       0         \n",
      "                                                                 \n",
      " max_pooling2d_10 (MaxPoolin  (None, 18, 18, 128)      0         \n",
      " g2D)                                                            \n",
      "                                                                 \n",
      " conv2d_11 (Conv2D)          (None, 16, 16, 128)       147584    \n",
      "                                                                 \n",
      " batch_normalization_11 (Bat  (None, 16, 16, 128)      512       \n",
      " chNormalization)                                                \n",
      "                                                                 \n",
      " activation_11 (Activation)  (None, 16, 16, 128)       0         \n",
      "                                                                 \n",
      " max_pooling2d_11 (MaxPoolin  (None, 8, 8, 128)        0         \n",
      " g2D)                                                            \n",
      "                                                                 \n",
      " flatten_2 (Flatten)         (None, 8192)              0         \n",
      "                                                                 \n",
      " dense_4 (Dense)             (None, 512)               4194816   \n",
      "                                                                 \n",
      " dense_5 (Dense)             (None, 1)                 513       \n",
      "                                                                 \n",
      "=================================================================\n",
      "Total params: 4,437,569\n",
      "Trainable params: 4,436,865\n",
      "Non-trainable params: 704\n",
      "_________________________________________________________________\n"
     ]
    }
   ],
   "source": [
    "import tensorflow as tf\n",
    "from tensorflow.keras import layers\n",
    "\n",
    "model = tf.keras.Sequential(name='X-ray_CNN')\n",
    "\n",
    "model.add(tf.keras.layers.InputLayer(input_shape=(160,160,3)))\n",
    "\n",
    "model.add(tf.keras.layers.Conv2D(filters=32, kernel_size=(3, 3)))\n",
    "model.add(tf.keras.layers.BatchNormalization())\n",
    "model.add(tf.keras.layers.Activation('relu')) # relu activation makes each value 0 if it is negative\n",
    "model.add(tf.keras.layers.MaxPool2D(pool_size=(2, 2)))\n",
    "\n",
    "model.add(tf.keras.layers.Conv2D(filters=64, kernel_size=(3, 3)))\n",
    "model.add(tf.keras.layers.BatchNormalization())\n",
    "model.add(tf.keras.layers.Activation('relu'))\n",
    "model.add(tf.keras.layers.MaxPool2D(pool_size=(2, 2)))\n",
    "\n",
    "model.add(tf.keras.layers.Conv2D(filters=128, kernel_size=(3, 3)))\n",
    "model.add(tf.keras.layers.BatchNormalization())\n",
    "model.add(tf.keras.layers.Activation('relu'))\n",
    "model.add(tf.keras.layers.MaxPool2D(pool_size=(2, 2)))\n",
    "\n",
    "model.add(tf.keras.layers.Conv2D(filters=128, kernel_size=(3, 3)))\n",
    "model.add(tf.keras.layers.BatchNormalization())\n",
    "model.add(tf.keras.layers.Activation('relu'))\n",
    "model.add(tf.keras.layers.MaxPool2D(pool_size=(2, 2)))\n",
    "\n",
    "model.add(tf.keras.layers.Flatten())\n",
    "model.add(tf.keras.layers.Dense(units=512, activation='relu'))\n",
    "model.add(tf.keras.layers.Dense(units=1, activation='sigmoid'))\n",
    "\n",
    "METRICS = ['accuracy',\n",
    "        tf.keras.metrics.Precision(name='precision'),\n",
    "        tf.keras.metrics.Recall(name='recall')]\n",
    "lr_schedule = tf.keras.optimizers.schedules.ExponentialDecay(\n",
    "    initial_learning_rate=1e-2,\n",
    "    decay_steps=10000,\n",
    "    decay_rate=0.9)\n",
    "model.compile(optimizer=tf.keras.optimizers.SGD(learning_rate=lr_schedule),\n",
    "              loss=tf.keras.losses.BinaryCrossentropy(),\n",
    "              metrics=METRICS)\n",
    "history = model.fit(train_generator, \n",
    "          steps_per_epoch= n_train//16,\n",
    "          validation_data=validation_generator,\n",
    "          epochs=20,\n",
    "          verbose=1)\n",
    "model.summary()"
   ]
  },
  {
   "cell_type": "code",
   "execution_count": 19,
   "metadata": {},
   "outputs": [
    {
     "name": "stderr",
     "output_type": "stream",
     "text": [
      "WARNING:absl:Found untraced functions such as _jit_compiled_convolution_op, _jit_compiled_convolution_op, _jit_compiled_convolution_op, _jit_compiled_convolution_op while saving (showing 4 of 4). These functions will not be directly callable after loading.\n"
     ]
    },
    {
     "name": "stdout",
     "output_type": "stream",
     "text": [
      "INFO:tensorflow:Assets written to: xraymodel_binary_20231019_143214\\assets\n"
     ]
    },
    {
     "name": "stderr",
     "output_type": "stream",
     "text": [
      "INFO:tensorflow:Assets written to: xraymodel_binary_20231019_143214\\assets\n"
     ]
    }
   ],
   "source": [
    "import datetime\n",
    "model.save('xraymodel_binary_'+str(datetime.datetime.now().strftime(\"%Y%m%d_%H%M%S\")))"
   ]
  },
  {
   "cell_type": "code",
   "execution_count": 20,
   "metadata": {},
   "outputs": [],
   "source": [
    "def scores(y_pred, y_test):\n",
    "    TP = np.sum((y_pred == 1) & (y_test == 1))\n",
    "    TN = np.sum((y_pred == 0) & (y_test == 0))\n",
    "    FP = np.sum((y_pred == 1) & (y_test == 0))\n",
    "    FN = np.sum((y_pred == 0) & (y_test == 1))\n",
    "    print(TP, TN, FP, FN)\n",
    "\n",
    "    # Accuracy\n",
    "    accuracy = (TP + TN) / (TP + TN + FP + FN)\n",
    "\n",
    "    # Precision\n",
    "    precision = TP / (TP + FP) if TP + FP > 0 else 0\n",
    "\n",
    "    # Recall (Sensitivity or True Positive Rate)\n",
    "    recall = TP / (TP + FN) if TP + FN > 0 else 0\n",
    "\n",
    "    # F1 Score\n",
    "    f1_score = 2 * (precision * recall) / (precision + recall) if precision + recall > 0 else 0\n",
    "\n",
    "    print({\n",
    "        \"Accuracy\": accuracy,\n",
    "        \"Precision\": precision,\n",
    "        \"Recall\": recall,\n",
    "        \"F1 Score\": f1_score\n",
    "    })"
   ]
  },
  {
   "cell_type": "code",
   "execution_count": 21,
   "metadata": {},
   "outputs": [
    {
     "name": "stdout",
     "output_type": "stream",
     "text": [
      "576\n",
      "19/19 [==============================] - 7s 365ms/step\n",
      "408 148 6 14\n",
      "{'Accuracy': 0.9652777777777778, 'Precision': 0.9855072463768116, 'Recall': 0.966824644549763, 'F1 Score': 0.9760765550239234}\n"
     ]
    },
    {
     "data": {
      "text/plain": [
       "<Figure size 640x480 with 0 Axes>"
      ]
     },
     "metadata": {},
     "output_type": "display_data"
    },
    {
     "data": {
      "image/png": "[encoded data removed]",
      "text/plain": [
       "<Figure size 1200x800 with 1 Axes>"
      ]
     },
     "metadata": {},
     "output_type": "display_data"
    },
    {
     "name": "stdout",
     "output_type": "stream",
     "text": [
      "4688\n",
      "294/294 [==============================] - 69s 236ms/step\n",
      "3297 1209 69 113\n",
      "{'Accuracy': 0.9611774744027304, 'Precision': 0.9795008912655971, 'Recall': 0.9668621700879766, 'F1 Score': 0.9731404958677687}\n"
     ]
    },
    {
     "data": {
      "text/plain": [
       "<Figure size 640x480 with 0 Axes>"
      ]
     },
     "metadata": {},
     "output_type": "display_data"
    },
    {
     "data": {
      "image/png": "[encoded data removed]",
      "text/plain": [
       "<Figure size 1200x800 with 1 Axes>"
      ]
     },
     "metadata": {},
     "output_type": "display_data"
    },
    {
     "name": "stdout",
     "output_type": "stream",
     "text": [
      "576\n",
      "37/37 [==============================] - 9s 231ms/step\n",
      "417 138 8 13\n",
      "{'Accuracy': 0.9635416666666666, 'Precision': 0.9811764705882353, 'Recall': 0.9697674418604652, 'F1 Score': 0.9754385964912281}\n"
     ]
    },
    {
     "data": {
      "text/plain": [
       "<Figure size 640x480 with 0 Axes>"
      ]
     },
     "metadata": {},
     "output_type": "display_data"
    },
    {
     "data": {
      "image/png": "[encoded data removed]",
      "text/plain": [
       "<Figure size 1200x800 with 1 Axes>"
      ]
     },
     "metadata": {},
     "output_type": "display_data"
    }
   ],
   "source": [
    "from sklearn.metrics import confusion_matrix\n",
    "from mlxtend.plotting import plot_confusion_matrix\n",
    "import numpy as np\n",
    "import matplotlib.pyplot as plt\n",
    "\n",
    "def plot_confusion(n, generator, title, batch_size):\n",
    "    labels = []\n",
    "    for i in range(0, n//batch_size):\n",
    "        # print(i)\n",
    "        labels.extend(generator[i][1])\n",
    "    labels = np.array(labels)\n",
    "    print(len(labels))\n",
    "    # preds = model.predict_classes(generator)\n",
    "    preds = (model.predict(generator) > 0.5).astype(\"int32\")\n",
    "    preds = np.reshape(preds, n)\n",
    "    \n",
    "    scores(preds[:len(labels)], labels)\n",
    "\n",
    "    cm  = confusion_matrix(labels, preds[:len(labels)])\n",
    "    plt.figure()\n",
    "    plot_confusion_matrix(cm,figsize=(12,8), hide_ticks=False,cmap=plt.cm.Blues)\n",
    "    plt.xticks(range(2), ['Normal', 'Pneumonia'], fontsize=16)\n",
    "    plt.yticks(range(2), ['Normal', 'Pneumonia'], fontsize=16)\n",
    "    plt.title(title, fontsize=20)\n",
    "    return plt.show()\n",
    "\n",
    "plot_confusion(n_test, test_generator, 'Test set', 32)\n",
    "plot_confusion(n_train, train_generator, 'Training set', 16)\n",
    "plot_confusion(n_validation, validation_generator, 'Validation set', 16)\n",
    "\n",
    "# 0.973958 accuracy for test"
   ]
  },
  {
   "cell_type": "code",
   "execution_count": 22,
   "metadata": {},
   "outputs": [
    {
     "ename": "NameError",
     "evalue": "name 'y_pred' is not defined",
     "output_type": "error",
     "traceback": [
      "\u001b[1;31m---------------------------------------------------------------------------\u001b[0m",
      "\u001b[1;31mNameError\u001b[0m                                 Traceback (most recent call last)",
      "Cell \u001b[1;32mIn [22], line 1\u001b[0m\n\u001b[1;32m----> 1\u001b[0m test_generator[\u001b[39m18\u001b[39m][\u001b[39m1\u001b[39m], y_pred[\u001b[39m-\u001b[39m\u001b[39m6\u001b[39m:]\n",
      "\u001b[1;31mNameError\u001b[0m: name 'y_pred' is not defined"
     ]
    }
   ],
   "source": [
    "test_generator[18][1], y_pred[-6:]"
   ]
  },
  {
   "cell_type": "code",
   "execution_count": null,
   "metadata": {},
   "outputs": [
    {
     "name": "stdout",
     "output_type": "stream",
     "text": [
      "19/19 [==============================] - 8s 440ms/step\n"
     ]
    },
    {
     "data": {
      "text/plain": [
       "(582, 582)"
      ]
     },
     "execution_count": 28,
     "metadata": {},
     "output_type": "execute_result"
    }
   ],
   "source": [
    "y_pred = (model.predict(test_generator) > 0.5).astype(\"int32\").squeeze()\n",
    "y_pred = np.reshape(y_pred, n_test)\n",
    "labels = []\n",
    "for i in range(0, len(test_generator)):\n",
    "    labels.extend(test_generator[i][1])\n",
    "y_test = np.array(labels)\n",
    "len(y_pred), len(y_test)"
   ]
  },
  {
   "cell_type": "code",
   "execution_count": null,
   "metadata": {},
   "outputs": [
    {
     "name": "stdout",
     "output_type": "stream",
     "text": [
      "269 66 89 158\n",
      "{'Accuracy': 0.5756013745704467, 'Precision': 0.7513966480446927, 'Recall': 0.629976580796253, 'F1 Score': 0.6853503184713376}\n"
     ]
    }
   ],
   "source": [
    "# y_pred = model.predict(test_generator)\n",
    "# #transforming label back to original\n",
    "# y_pred = encoder.inverse_transform(y_pred).squeeze()\n",
    "\n",
    "y_pred = y_pred.squeeze()\n",
    "y_test = y_test.squeeze()\n",
    "\n",
    "# Make sure both input arrays have the same length\n",
    "if len(y_pred) != len(y_test):\n",
    "    raise ValueError(\"Input arrays must have the same length\")\n",
    "\n",
    "# True Positives (TP), True Negatives (TN), False Positives (FP), and False Negatives (FN)\n",
    "TP = np.sum((y_pred == 1) & (y_test == 1))\n",
    "TN = np.sum((y_pred == 0) & (y_test == 0))\n",
    "FP = np.sum((y_pred == 1) & (y_test == 0))\n",
    "FN = np.sum((y_pred == 0) & (y_test == 1))\n",
    "print(TP, TN, FP, FN)\n",
    "\n",
    "# Accuracy\n",
    "accuracy = (TP + TN) / (TP + TN + FP + FN)\n",
    "\n",
    "# Precision\n",
    "precision = TP / (TP + FP) if TP + FP > 0 else 0\n",
    "\n",
    "# Recall (Sensitivity or True Positive Rate)\n",
    "recall = TP / (TP + FN) if TP + FN > 0 else 0\n",
    "\n",
    "# F1 Score\n",
    "f1_score = 2 * (precision * recall) / (precision + recall) if precision + recall > 0 else 0\n",
    "\n",
    "print({\n",
    "    \"Accuracy\": accuracy,\n",
    "    \"Precision\": precision,\n",
    "    \"Recall\": recall,\n",
    "    \"F1 Score\": f1_score\n",
    "})"
   ]
  }
 ],
 "metadata": {
  "kernelspec": {
   "display_name": "Python 3.10.8 64-bit (microsoft store)",
   "language": "python",
   "name": "python3"
  },
  "language_info": {
   "codemirror_mode": {
    "name": "ipython",
    "version": 3
   },
   "file_extension": ".py",
   "mimetype": "text/x-python",
   "name": "python",
   "nbconvert_exporter": "python",
   "pygments_lexer": "ipython3",
   "version": "3.10.11 (tags/v3.10.11:7d4cc5a, Apr  5 2023, 00:38:17) [MSC v.1929 64 bit (AMD64)]"
  },
  "orig_nbformat": 4,
  "vscode": {
   "interpreter": {
    "hash": "fc7e758b011b8546c2d8d6136d2d13627abe8c022b73c6b30824a33af506f0a4"
   }
  }
 },
 "nbformat": 4,
 "nbformat_minor": 2
}
